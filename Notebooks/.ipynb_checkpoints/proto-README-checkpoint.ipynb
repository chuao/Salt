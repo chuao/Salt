{
 "cells": [
  {
   "cell_type": "markdown",
   "metadata": {},
   "source": [
    "# Pass the Salt"
   ]
  },
  {
   "cell_type": "markdown",
   "metadata": {},
   "source": [
    "## The Problem\n",
    "\n",
    "Subsurface salt is a blessing and a curse for Oil and Gas exploration and production. In one hand salt intrusions help creating and sealing oil and gas traps that can be very prolific. In the other hand there are many hazards related to drilling through or near salt domes.\n",
    "\n",
    "![Salt Dome Illustration by the Louisiana Department of Natural Resources](../img/Salt Dome Illustration by the Louisiana Department of Natural Resources.jpg )\n",
    "\n",
    "Salt Dome Illustration by the Louisiana Department of Natural Resources.\n",
    "\n",
    "Reflection Seismic Imaging is used to determine structural and stratigraphic characteristics of the subsurface, it works by recording sound waves as they reflect from the different geological interfaces they found along their path. This technique relies heavily on some properties of the velocities at which the sound travels through the rocks. Salt however, stretches those assumptions reducing the ability for geophysicists to properly image them precisely.\n",
    "\n",
    "![Seismic section where structure is salt dominated. Courtesy of CGG](../img/seismic_section_CGG_Kwanza.jpg)\n",
    "Seismic section where structure is salt dominated. Courtesy of CGG\n",
    "\n",
    "The goal of this project is to precisely determine what is Salt and what isn't in seismic data."
   ]
  },
  {
   "cell_type": "markdown",
   "metadata": {},
   "source": [
    "## The Data\n",
    "\n",
    "We have been provided with 22,000 101x101 grayscale seismic images and 4,000 masks (or labels) of the same size.\n",
    "\n",
    "The first step is to QC the **masks**, to do that I decided to blend the masks and the seismic images in order to have context. The first row are the seismic data, the second are the masks \n",
    "\n",
    "This is how it looks:\n",
    "\n",
    "![Combined images of seismic and masks](../img/combo.png)\n"
   ]
  },
  {
   "cell_type": "markdown",
   "metadata": {},
   "source": [
    "Using the combined images I was able to find and exclude images like this one:\n",
    "\n",
    "![Incorrecly labeled image](../data/susp/7deaf30c4a.png)"
   ]
  },
  {
   "cell_type": "markdown",
   "metadata": {},
   "source": [
    "After I manually excluded 194 out of 4000 images. Now I need to convert  the seismic and the masks into the traditional **X** and **y** para poder usar **Logistic Regression** as a base case classifier. \n",
    "\n",
    "I will use a window of 9x9 pixels around each position I want to predict.\n",
    "\n",
    "![sampling](../img/Sampling.png)"
   ]
  },
  {
   "cell_type": "markdown",
   "metadata": {},
   "source": [
    "That converts a single 101x101 input image into a matrix of 10201 data points (rows) with 81 features each. The borders were *odd reflected* padded with 4 extra pixels. The type of padding was selected after testing multiple combinations.\n",
    "\n",
    "In other words it is redundant by a factor of 81. "
   ]
  },
  {
   "cell_type": "markdown",
   "metadata": {},
   "source": [
    "From a sample of the data, we see the distribution of X\n",
    "![X Distribution](../img/X_hist.png)\n",
    "\n",
    "And we can also take a look at the classes balance\n",
    "![Class Balance](../img/class_balance.png)"
   ]
  },
  {
   "cell_type": "markdown",
   "metadata": {},
   "source": [
    "## First Models\n",
    "\n",
    "We'll select a subsample of the training data to train a Logistic Regression model and/or a very basic kinda deep MLP model.\n",
    "\n",
    "To do that I will train the model to predict one pixel from 81 input pixels. and for that I nned to build X and y from the images and the masks, padding the masks according to the size of the input."
   ]
  },
  {
   "cell_type": "markdown",
   "metadata": {},
   "source": [
    "## Simple model 1: Logistic Regression\n",
    "\n",
    "Now that we have X and y, let's try a logistic regression to see how it goes."
   ]
  },
  {
   "cell_type": "markdown",
   "metadata": {},
   "source": [
    "### It wasn't pretty...\n",
    "\n",
    "The problem seems to violate the **Logistic Regression** assumptions, in particular, it does not look like a *linear problem*.\n",
    "\n",
    "![Logistic Regression ROC](../img/Logistic Regression ROC.png)"
   ]
  },
  {
   "cell_type": "markdown",
   "metadata": {},
   "source": [
    "... let's try something a bit smarter...\n",
    "\n",
    "Using the same **X** and **y** lets train a **Multi Layer Perceptron** to see if we can capture some of the non linearity of the problem."
   ]
  },
  {
   "cell_type": "markdown",
   "metadata": {},
   "source": [
    "## MPL\n"
   ]
  },
  {
   "cell_type": "markdown",
   "metadata": {},
   "source": [
    "I tried a tradicional MLP with 3 hidden layers of 81, 49, and 25 nodes respectively, ending on a single unit which output is Salt or Not.\n",
    "\n",
    "```python\n",
    "    model = Sequential() # sequence of layers\n",
    "    num_neurons_in_layer_1 = 81  # number of neurons in a layer \n",
    "    num_neurons_in_layer_2 = 49  # number of neurons in a layer \n",
    "    num_neurons_in_layer_3 = 25  # number of neurons in a layer \n",
    "    num_inputs = Xtrn.shape[1] # number of features\n",
    "    num_classes = 1  # Salt or Not Salt\n",
    "    model.add(Dense(units=num_neurons_in_layer_1, # First hidden layer same size as inputs\n",
    "                    input_dim=num_inputs,\n",
    "                    kernel_initializer='orthogonal',\n",
    "                    activation='relu'))\n",
    "    model.add(Dense(units=num_neurons_in_layer_2,\n",
    "                    input_dim=num_neurons_in_layer_1,\n",
    "                    kernel_initializer='orthogonal',\n",
    "                    activation='sigmoid'))\n",
    "    model.add(Dense(units=1, # it just has to predict Salt or not\n",
    "                    input_dim=num_neurons_in_layer_2,\n",
    "                    kernel_initializer='orthogonal',\n",
    "                    activation='sigmoid')) # keep softmax as last layer\n",
    "    sgd = SGD(lr=0.01, decay=1e-9, momentum=.5) # learning rate, weight decay, momentum; using stochastic gradient descent (keep)\n",
    "    model.compile(loss='binary_crossentropy', optimizer='rmsprop', metrics=[\"accuracy\"] )\n",
    "```"
   ]
  },
  {
   "cell_type": "markdown",
   "metadata": {},
   "source": [
    "The ROC curve could be better, but it is a great improvement in comparisson with the Logistic Regressor.\n",
    "\n",
    "![MLP ROC](../img/MLP_ROC.png)"
   ]
  },
  {
   "cell_type": "markdown",
   "metadata": {},
   "source": [
    "Now a random Prediction from the MLP, compared with the actual mask.\n",
    "\n",
    "Colors:\n",
    "\n",
    "* **Black** areas are **True Negatives**\n",
    "* **White** areas are **True Positives**\n",
    "* **Cyan** areas are **False Negatives**\n",
    "* **Light Green** areas are **False Positives**\n",
    "\n",
    "![Sample Prediction Comparison](../img/prediction.png)\n"
   ]
  },
  {
   "cell_type": "markdown",
   "metadata": {},
   "source": [
    "## Future Work\n",
    "\n",
    "* Test U-Net and Hinton's Capsule-Nets\n",
    "* Re-structure project to be able to submit jobs to GCP's ML-Engine.\n",
    "* Feature Engineering (Coherence, maybe).\n",
    "* More tuning."
   ]
  }
 ],
 "metadata": {
  "kernelspec": {
   "display_name": "Python 3",
   "language": "python",
   "name": "python3"
  },
  "language_info": {
   "codemirror_mode": {
    "name": "ipython",
    "version": 3
   },
   "file_extension": ".py",
   "mimetype": "text/x-python",
   "name": "python",
   "nbconvert_exporter": "python",
   "pygments_lexer": "ipython3",
   "version": "3.6.5"
  }
 },
 "nbformat": 4,
 "nbformat_minor": 2
}
